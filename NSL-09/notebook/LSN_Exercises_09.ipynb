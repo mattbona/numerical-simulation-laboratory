{
 "cells": [
  {
   "cell_type": "markdown",
   "metadata": {},
   "source": [
    "# <span style=\"color:green\"> Numerical Simulation Laboratory (NSL) </span>\n",
    "## <span style=\"color:blue\">  Numerical exercises 9</span>"
   ]
  },
  {
   "cell_type": "code",
   "execution_count": 1,
   "metadata": {},
   "outputs": [],
   "source": [
    "import matplotlib.pyplot as plt\n",
    "import numpy as np"
   ]
  },
  {
   "cell_type": "markdown",
   "metadata": {},
   "source": [
    "### Exercise 09.1\n",
    "\n",
    "For this lesson I wrote from scratch my Genetic algorithm (GA) to solve the Traveling Salesman Problem (TSP).\n",
    "\n",
    "For its implementation I tried to follow as much as possible the indications and the advices of the jupyter notebook:\n",
    "\n",
    "- A possible path is expressed using a 1D vector;\n",
    "- A *check function* verifies if every new individual fulfils the bonds of the problem;\n",
    "- The population is sorted according to fitness function $L^{(1)}(\\vec{x}_1, \\vec{x}_2, \\dots, \\vec{x}_N)$;\n",
    "- The selection operator simply uses the order in the orderd population, extracting the individuals with *rigged-roulette method*;\n",
    "- The implemented crossover operator (called with probability $p_c$) is the one described in the jupyter notebook;\n",
    "- The 5 implemented genetic-mutation operators (each of them is called with its probability $p_m$) are those described in the jupyter notebook.\n",
    "\n",
    "To generate the random disposition of the cities on the circumference or inside the square I wrote a small python script that creates these two configurations and writes them in two separated files called `circle_city.config` and `square_city.config` respectively.\n",
    "The C++ code reads the city configuration from a file called `city_config.dat` and all other input parameters from `input.dat`.\n",
    "\n",
    "Once I implemented the GA I applied it to optimize a path among 32 cities randomly placed on a circumference and 32 cities randomly placed inside a square.\n",
    "\n",
    "I than produces a picture of $L^{(1)}$ of the best path and of $\\langle L^{(1)}\\rangle$ averaged on the best half of the population, as a function of the generations of the algorithm, and a picture of the best path for both the circular and the square dispositions of the cities.\n",
    "\n",
    "Chosen parameters are:\n",
    "\n",
    "- $2000$ generations/iterations of the algorithm;\n",
    "- $100$ individuals;\n",
    "- Rigged-roulette exponential $r=2$;\n",
    "- Crossover probability $p_c=80\\%$;\n",
    "- All genetic-mutation probability $p_m=10\\%$.\n",
    "\n",
    "Results are shown below."
   ]
  },
  {
   "cell_type": "code",
   "execution_count": 2,
   "metadata": {},
   "outputs": [
    {
     "ename": "OSError",
     "evalue": "Exercise_01/data/square/output_average_distance.dat not found.",
     "output_type": "error",
     "traceback": [
      "\u001b[0;31m---------------------------------------------------------------------------\u001b[0m",
      "\u001b[0;31mOSError\u001b[0m                                   Traceback (most recent call last)",
      "\u001b[0;32m<ipython-input-2-39a5a4413dab>\u001b[0m in \u001b[0;36m<module>\u001b[0;34m\u001b[0m\n\u001b[1;32m      1\u001b[0m \u001b[0;31m# Load data square world\u001b[0m\u001b[0;34m\u001b[0m\u001b[0;34m\u001b[0m\u001b[0;34m\u001b[0m\u001b[0m\n\u001b[0;32m----> 2\u001b[0;31m \u001b[0mx_sq_avg\u001b[0m\u001b[0;34m,\u001b[0m \u001b[0my_sq_avg\u001b[0m \u001b[0;34m=\u001b[0m \u001b[0mnp\u001b[0m\u001b[0;34m.\u001b[0m\u001b[0mloadtxt\u001b[0m\u001b[0;34m(\u001b[0m\u001b[0;34m\"Exercise_01/data/square/output_average_distance.dat\"\u001b[0m\u001b[0;34m,\u001b[0m \u001b[0munpack\u001b[0m \u001b[0;34m=\u001b[0m \u001b[0;32mTrue\u001b[0m\u001b[0;34m)\u001b[0m\u001b[0;34m\u001b[0m\u001b[0;34m\u001b[0m\u001b[0m\n\u001b[0m\u001b[1;32m      3\u001b[0m \u001b[0mx_sq_best\u001b[0m\u001b[0;34m,\u001b[0m \u001b[0my_sq_best\u001b[0m \u001b[0;34m=\u001b[0m \u001b[0mnp\u001b[0m\u001b[0;34m.\u001b[0m\u001b[0mloadtxt\u001b[0m\u001b[0;34m(\u001b[0m\u001b[0;34m\"Exercise_01/data/square/output_best_distance.dat\"\u001b[0m\u001b[0;34m,\u001b[0m \u001b[0munpack\u001b[0m \u001b[0;34m=\u001b[0m \u001b[0;32mTrue\u001b[0m\u001b[0;34m)\u001b[0m\u001b[0;34m\u001b[0m\u001b[0;34m\u001b[0m\u001b[0m\n\u001b[1;32m      4\u001b[0m \u001b[0mx_sq_path\u001b[0m\u001b[0;34m,\u001b[0m \u001b[0my_sq_path\u001b[0m \u001b[0;34m=\u001b[0m \u001b[0mnp\u001b[0m\u001b[0;34m.\u001b[0m\u001b[0mloadtxt\u001b[0m\u001b[0;34m(\u001b[0m\u001b[0;34m\"Exercise_01/data/square/best_path.dat\"\u001b[0m\u001b[0;34m,\u001b[0m \u001b[0munpack\u001b[0m \u001b[0;34m=\u001b[0m \u001b[0;32mTrue\u001b[0m\u001b[0;34m)\u001b[0m\u001b[0;34m\u001b[0m\u001b[0;34m\u001b[0m\u001b[0m\n\u001b[1;32m      5\u001b[0m \u001b[0;31m# Load data circle world\u001b[0m\u001b[0;34m\u001b[0m\u001b[0;34m\u001b[0m\u001b[0;34m\u001b[0m\u001b[0m\n",
      "\u001b[0;32m~/.local/envs/miniconda3/envs/lab-galli/lib/python3.6/site-packages/numpy/lib/npyio.py\u001b[0m in \u001b[0;36mloadtxt\u001b[0;34m(fname, dtype, comments, delimiter, converters, skiprows, usecols, unpack, ndmin, encoding, max_rows)\u001b[0m\n\u001b[1;32m    979\u001b[0m             \u001b[0mfname\u001b[0m \u001b[0;34m=\u001b[0m \u001b[0mos_fspath\u001b[0m\u001b[0;34m(\u001b[0m\u001b[0mfname\u001b[0m\u001b[0;34m)\u001b[0m\u001b[0;34m\u001b[0m\u001b[0;34m\u001b[0m\u001b[0m\n\u001b[1;32m    980\u001b[0m         \u001b[0;32mif\u001b[0m \u001b[0m_is_string_like\u001b[0m\u001b[0;34m(\u001b[0m\u001b[0mfname\u001b[0m\u001b[0;34m)\u001b[0m\u001b[0;34m:\u001b[0m\u001b[0;34m\u001b[0m\u001b[0;34m\u001b[0m\u001b[0m\n\u001b[0;32m--> 981\u001b[0;31m             \u001b[0mfh\u001b[0m \u001b[0;34m=\u001b[0m \u001b[0mnp\u001b[0m\u001b[0;34m.\u001b[0m\u001b[0mlib\u001b[0m\u001b[0;34m.\u001b[0m\u001b[0m_datasource\u001b[0m\u001b[0;34m.\u001b[0m\u001b[0mopen\u001b[0m\u001b[0;34m(\u001b[0m\u001b[0mfname\u001b[0m\u001b[0;34m,\u001b[0m \u001b[0;34m'rt'\u001b[0m\u001b[0;34m,\u001b[0m \u001b[0mencoding\u001b[0m\u001b[0;34m=\u001b[0m\u001b[0mencoding\u001b[0m\u001b[0;34m)\u001b[0m\u001b[0;34m\u001b[0m\u001b[0;34m\u001b[0m\u001b[0m\n\u001b[0m\u001b[1;32m    982\u001b[0m             \u001b[0mfencoding\u001b[0m \u001b[0;34m=\u001b[0m \u001b[0mgetattr\u001b[0m\u001b[0;34m(\u001b[0m\u001b[0mfh\u001b[0m\u001b[0;34m,\u001b[0m \u001b[0;34m'encoding'\u001b[0m\u001b[0;34m,\u001b[0m \u001b[0;34m'latin1'\u001b[0m\u001b[0;34m)\u001b[0m\u001b[0;34m\u001b[0m\u001b[0;34m\u001b[0m\u001b[0m\n\u001b[1;32m    983\u001b[0m             \u001b[0mfh\u001b[0m \u001b[0;34m=\u001b[0m \u001b[0miter\u001b[0m\u001b[0;34m(\u001b[0m\u001b[0mfh\u001b[0m\u001b[0;34m)\u001b[0m\u001b[0;34m\u001b[0m\u001b[0;34m\u001b[0m\u001b[0m\n",
      "\u001b[0;32m~/.local/envs/miniconda3/envs/lab-galli/lib/python3.6/site-packages/numpy/lib/_datasource.py\u001b[0m in \u001b[0;36mopen\u001b[0;34m(path, mode, destpath, encoding, newline)\u001b[0m\n\u001b[1;32m    267\u001b[0m \u001b[0;34m\u001b[0m\u001b[0m\n\u001b[1;32m    268\u001b[0m     \u001b[0mds\u001b[0m \u001b[0;34m=\u001b[0m \u001b[0mDataSource\u001b[0m\u001b[0;34m(\u001b[0m\u001b[0mdestpath\u001b[0m\u001b[0;34m)\u001b[0m\u001b[0;34m\u001b[0m\u001b[0;34m\u001b[0m\u001b[0m\n\u001b[0;32m--> 269\u001b[0;31m     \u001b[0;32mreturn\u001b[0m \u001b[0mds\u001b[0m\u001b[0;34m.\u001b[0m\u001b[0mopen\u001b[0m\u001b[0;34m(\u001b[0m\u001b[0mpath\u001b[0m\u001b[0;34m,\u001b[0m \u001b[0mmode\u001b[0m\u001b[0;34m,\u001b[0m \u001b[0mencoding\u001b[0m\u001b[0;34m=\u001b[0m\u001b[0mencoding\u001b[0m\u001b[0;34m,\u001b[0m \u001b[0mnewline\u001b[0m\u001b[0;34m=\u001b[0m\u001b[0mnewline\u001b[0m\u001b[0;34m)\u001b[0m\u001b[0;34m\u001b[0m\u001b[0;34m\u001b[0m\u001b[0m\n\u001b[0m\u001b[1;32m    270\u001b[0m \u001b[0;34m\u001b[0m\u001b[0m\n\u001b[1;32m    271\u001b[0m \u001b[0;34m\u001b[0m\u001b[0m\n",
      "\u001b[0;32m~/.local/envs/miniconda3/envs/lab-galli/lib/python3.6/site-packages/numpy/lib/_datasource.py\u001b[0m in \u001b[0;36mopen\u001b[0;34m(self, path, mode, encoding, newline)\u001b[0m\n\u001b[1;32m    621\u001b[0m                                       encoding=encoding, newline=newline)\n\u001b[1;32m    622\u001b[0m         \u001b[0;32melse\u001b[0m\u001b[0;34m:\u001b[0m\u001b[0;34m\u001b[0m\u001b[0;34m\u001b[0m\u001b[0m\n\u001b[0;32m--> 623\u001b[0;31m             \u001b[0;32mraise\u001b[0m \u001b[0mIOError\u001b[0m\u001b[0;34m(\u001b[0m\u001b[0;34m\"%s not found.\"\u001b[0m \u001b[0;34m%\u001b[0m \u001b[0mpath\u001b[0m\u001b[0;34m)\u001b[0m\u001b[0;34m\u001b[0m\u001b[0;34m\u001b[0m\u001b[0m\n\u001b[0m\u001b[1;32m    624\u001b[0m \u001b[0;34m\u001b[0m\u001b[0m\n\u001b[1;32m    625\u001b[0m \u001b[0;34m\u001b[0m\u001b[0m\n",
      "\u001b[0;31mOSError\u001b[0m: Exercise_01/data/square/output_average_distance.dat not found."
     ]
    }
   ],
   "source": [
    "# Load data square world\n",
    "x_sq_avg, y_sq_avg = np.loadtxt(\"Exercise_01/data/square/output_average_distance.dat\", unpack = True)\n",
    "x_sq_best, y_sq_best = np.loadtxt(\"Exercise_01/data/square/output_best_distance.dat\", unpack = True)\n",
    "x_sq_path, y_sq_path = np.loadtxt(\"Exercise_01/data/square/best_path.dat\", unpack = True)\n",
    "# Load data circle world\n",
    "x_circ_avg, y_circ_avg = np.loadtxt(\"Exercise_01/data/circle/output_average_distance.dat\", unpack = True)\n",
    "x_circ_best, y_circ_best = np.loadtxt(\"Exercise_01/data/circle/output_best_distance.dat\", unpack = True)\n",
    "x_circ_path, y_circ_path = np.loadtxt(\"Exercise_01/data/circle/best_path.dat\", unpack = True)\n",
    "\n",
    "# Plot L1 distance best and average vs generation\n",
    "plt.figure(1, figsize = (14, 7))\n",
    "plt.title(\"Fitness value ($L^{(1)}$ distance) square world\")\n",
    "plt.plot(x_sq_best, y_sq_best, label=\"Best fitness value $L^{(1)}$\")\n",
    "plt.plot(x_sq_avg, y_sq_avg, label=\"Average fitness value $< L^{(1)}>$\")\n",
    "plt.xlabel('Generations')\n",
    "plt.ylabel('Fitness')\n",
    "plt.grid(True)\n",
    "plt.legend()\n",
    "\n",
    "# Plot L2 distance best and average vs generation\n",
    "plt.figure(2, figsize = (14, 7))\n",
    "plt.title(\"Fitness value ($L^{(1)}$ distance) circular world\")\n",
    "plt.plot(x_circ_best, y_circ_best, label=\"Best fitness value $L^{(1)}$\")\n",
    "plt.plot(x_circ_avg, y_circ_avg, label=\"Average fitness value $< L^{(1)}>$\")\n",
    "plt.xlabel('Generations')\n",
    "plt.ylabel('Fitness')\n",
    "plt.grid(True)\n",
    "plt.legend()\n",
    "\n",
    "# Plot best path \n",
    "plt.figure(3, figsize = (14, 7))\n",
    "# Square world\n",
    "plt.subplot(1, 2, 1)\n",
    "plt.title(\"Best path (square world)\")\n",
    "plt.plot(x_sq_path, y_sq_path,  marker=\".\")\n",
    "plt.axis('equal')\n",
    "plt.xlim((-1, 1))\n",
    "plt.ylim((-1, 1))\n",
    "plt.xticks([])\n",
    "plt.yticks([])\n",
    "# Circle world\n",
    "plt.subplot(1, 2, 2)\n",
    "plt.title(\"Best path (circular world)\")\n",
    "plt.plot(x_circ_path, y_circ_path,  marker=\".\")\n",
    "plt.axis('equal')\n",
    "plt.xlim((-1, 1))\n",
    "plt.ylim((-1, 1))\n",
    "plt.xticks([])\n",
    "plt.yticks([])\n",
    "\n",
    "plt.show()"
   ]
  },
  {
   "cell_type": "code",
   "execution_count": null,
   "metadata": {},
   "outputs": [],
   "source": []
  }
 ],
 "metadata": {
  "kernelspec": {
   "display_name": "Python 3",
   "language": "python",
   "name": "python3"
  },
  "language_info": {
   "codemirror_mode": {
    "name": "ipython",
    "version": 3
   },
   "file_extension": ".py",
   "mimetype": "text/x-python",
   "name": "python",
   "nbconvert_exporter": "python",
   "pygments_lexer": "ipython3",
   "version": "3.6.10"
  }
 },
 "nbformat": 4,
 "nbformat_minor": 2
}
